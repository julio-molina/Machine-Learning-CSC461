{
 "cells": [
  {
   "cell_type": "markdown",
   "metadata": {},
   "source": [
    "## Imports & Data"
   ]
  },
  {
   "cell_type": "code",
   "execution_count": 1,
   "metadata": {
    "execution": {
     "iopub.execute_input": "2020-10-04T23:17:54.780534Z",
     "iopub.status.busy": "2020-10-04T23:17:54.780249Z",
     "iopub.status.idle": "2020-10-04T23:17:55.170636Z",
     "shell.execute_reply": "2020-10-04T23:17:55.169759Z",
     "shell.execute_reply.started": "2020-10-04T23:17:54.780476Z"
    }
   },
   "outputs": [],
   "source": [
    "import pandas as pd\n",
    "import numpy as np\n",
    "from sklearn.model_selection import train_test_split # for splitting dataset"
   ]
  },
  {
   "cell_type": "code",
   "execution_count": 2,
   "metadata": {
    "execution": {
     "iopub.execute_input": "2020-10-04T23:17:55.171772Z",
     "iopub.status.busy": "2020-10-04T23:17:55.171620Z",
     "iopub.status.idle": "2020-10-04T23:17:56.168409Z",
     "shell.execute_reply": "2020-10-04T23:17:56.167319Z",
     "shell.execute_reply.started": "2020-10-04T23:17:55.171757Z"
    }
   },
   "outputs": [
    {
     "name": "stdout",
     "output_type": "stream",
     "text": [
      "       0      1  2  3      4     5      6\n",
      "0  vhigh  vhigh  2  2  small   low  unacc\n",
      "1  vhigh  vhigh  2  2  small   med  unacc\n",
      "2  vhigh  vhigh  2  2  small  high  unacc\n",
      "3  vhigh  vhigh  2  2    med   low  unacc\n",
      "4  vhigh  vhigh  2  2    med   med  unacc\n"
     ]
    }
   ],
   "source": [
    "# Importing the dataset\n",
    "dataset_car = pd.read_csv('https://archive.ics.uci.edu/ml/machine-learning-databases/car/car.data', header=None)\n",
    "dataset_titanic = pd.read_csv('https://raw.githubusercontent.com/URI-CSC/461-fall-2020/master/assignments/assignment-1/titanic.csv', header=None)\n",
    "col_len=len(dataset_titanic.index)\n",
    "dataset_titanic=dataset_titanic.iloc[1:]#excludes the row names, that is in colomn 1 by default\n",
    "#print(dataset_titanic.head())\n",
    "print(dataset_car.head())"
   ]
  },
  {
   "cell_type": "code",
   "execution_count": 3,
   "metadata": {
    "execution": {
     "iopub.execute_input": "2020-10-04T23:17:56.172446Z",
     "iopub.status.busy": "2020-10-04T23:17:56.172256Z",
     "iopub.status.idle": "2020-10-04T23:17:56.188706Z",
     "shell.execute_reply": "2020-10-04T23:17:56.187732Z",
     "shell.execute_reply.started": "2020-10-04T23:17:56.172429Z"
    }
   },
   "outputs": [
    {
     "name": "stdout",
     "output_type": "stream",
     "text": [
      "<bound method NDFrame.head of      0  1                                                  2       3     4  5  \\\n",
      "1    0  3                             Mr. Owen Harris Braund    male  22.0  1   \n",
      "2    1  1  Mrs. John Bradley (Florence Briggs Thayer) Cum...  female  38.0  1   \n",
      "3    1  3                              Miss. Laina Heikkinen  female  26.0  0   \n",
      "4    1  1        Mrs. Jacques Heath (Lily May Peel) Futrelle  female  35.0  1   \n",
      "5    0  3                            Mr. William Henry Allen    male  35.0  0   \n",
      "..  .. ..                                                ...     ...   ... ..   \n",
      "883  0  2                               Rev. Juozas Montvila    male  27.0  0   \n",
      "884  1  1                        Miss. Margaret Edith Graham  female  19.0  0   \n",
      "885  0  3                     Miss. Catherine Helen Johnston  female   7.0  1   \n",
      "886  1  1                               Mr. Karl Howell Behr    male  26.0  0   \n",
      "887  0  3                                 Mr. Patrick Dooley    male  32.0  0   \n",
      "\n",
      "     6        7  \n",
      "1    0   7.2500  \n",
      "2    0  71.2833  \n",
      "3    0   7.9250  \n",
      "4    0  53.1000  \n",
      "5    0   8.0500  \n",
      "..  ..      ...  \n",
      "883  0  13.0000  \n",
      "884  0  30.0000  \n",
      "885  2  23.4500  \n",
      "886  0  30.0000  \n",
      "887  0   7.7500  \n",
      "\n",
      "[887 rows x 8 columns]>\n"
     ]
    }
   ],
   "source": [
    "# for converting str to int\n",
    "feature_len=dataset_titanic.shape[1]\n",
    "dataset_len=col_len\n",
    "indexes=[0,1,5,6]\n",
    "\n",
    "\n",
    "\n",
    "#dataset_titanic.to_numeric(dataset_titanic[0],downcast='signed')\n",
    "\n",
    "\n",
    "dataset_titanic[0]=dataset_titanic[0].astype('int')\n",
    "dataset_titanic[1]=dataset_titanic[1].astype('int')\n",
    "dataset_titanic[5]=dataset_titanic[5].astype('int')\n",
    "dataset_titanic[6]=dataset_titanic[6].astype('int')\n",
    "\n",
    "#dataset_car[2]=dataset_car[2].astype('int')\n",
    "#dataset_car[3]=dataset_car[3].astype('int')\n",
    "#for index,row in dataset_titanic.iterrows():\n",
    "    \n",
    "#for i in indexes:\n",
    "   # for j in range (dataset_len):\n",
    "        #temp=dataset_titanic[i][j]\n",
    "        #temp=j\n",
    "        #dataset_titanic[i][j]=int(temp)\n",
    "#convert to float\n",
    "f_indexes=[4, 7]\n",
    "dataset_titanic[4]=dataset_titanic[4].astype('float')\n",
    "dataset_titanic[7]=dataset_titanic[7].astype('float')\n",
    "print(dataset_titanic.head)"
   ]
  },
  {
   "cell_type": "code",
   "execution_count": 23,
   "metadata": {
    "execution": {
     "iopub.execute_input": "2020-10-04T23:21:03.896838Z",
     "iopub.status.busy": "2020-10-04T23:21:03.896661Z",
     "iopub.status.idle": "2020-10-04T23:21:03.900440Z",
     "shell.execute_reply": "2020-10-04T23:21:03.899678Z",
     "shell.execute_reply.started": "2020-10-04T23:21:03.896823Z"
    }
   },
   "outputs": [
    {
     "name": "stdout",
     "output_type": "stream",
     "text": [
      "<class 'str'>\n",
      "2\n"
     ]
    }
   ],
   "source": [
    "#proof above is in ints and floats do not delete\n",
    "#test if int\n",
    "print(type(dataset_car[2].iloc[0]))\n",
    "print(dataset_car[2].iloc[0])#4 represents horizonatal movement"
   ]
  },
  {
   "cell_type": "code",
   "execution_count": 5,
   "metadata": {
    "execution": {
     "iopub.execute_input": "2020-10-04T23:17:56.195402Z",
     "iopub.status.busy": "2020-10-04T23:17:56.195249Z",
     "iopub.status.idle": "2020-10-04T23:17:56.205392Z",
     "shell.execute_reply": "2020-10-04T23:17:56.204345Z",
     "shell.execute_reply.started": "2020-10-04T23:17:56.195385Z"
    }
   },
   "outputs": [
    {
     "name": "stdout",
     "output_type": "stream",
     "text": [
      "(887, 6) (887, 1)\n",
      "<class 'numpy.ndarray'>\n"
     ]
    }
   ],
   "source": [
    "# Separating the data into X and Y\n",
    "X = dataset_titanic.iloc[:, [1,3,4,5,6,7]].values\n",
    "y = dataset_titanic.iloc[:,:1].values\n",
    "\n",
    "Xc = dataset_car.iloc[:,[0,1,2,3,4,5]]\n",
    "yc = dataset_car.iloc[:,6]\n",
    "print (X.shape, y.shape)\n",
    "\n",
    "def unique_vals(rows, col):\n",
    "    \"\"\"Find the unique values for a column in a dataset.\"\"\"\n",
    "    return set([row[col] for row in rows])\n",
    "unique_vals(X, 0)\n",
    "##unique_vals(X, 1)\n",
    "##unique_vals(X, 2)\n",
    "##unique_vals(X, 3)\n",
    "##unique_vals(X, 4)\n",
    "##unique_vals(X, 5)\n",
    "print(type(X))"
   ]
  },
  {
   "cell_type": "markdown",
   "metadata": {},
   "source": [
    "## Helper functions"
   ]
  },
  {
   "cell_type": "code",
   "execution_count": 7,
   "metadata": {
    "execution": {
     "iopub.execute_input": "2020-10-04T23:17:56.213860Z",
     "iopub.status.busy": "2020-10-04T23:17:56.213701Z",
     "iopub.status.idle": "2020-10-04T23:17:56.217248Z",
     "shell.execute_reply": "2020-10-04T23:17:56.216775Z",
     "shell.execute_reply.started": "2020-10-04T23:17:56.213845Z"
    }
   },
   "outputs": [
    {
     "name": "stdout",
     "output_type": "stream",
     "text": [
      "False\n"
     ]
    }
   ],
   "source": [
    "def isNum(number):\n",
    "    if((type(number)==type(5)) or (type(number)==type(4.4))):\n",
    "        return True\n",
    "    else: \n",
    "        return False\n",
    "print(isNum('1'))"
   ]
  },
  {
   "cell_type": "code",
   "execution_count": 8,
   "metadata": {
    "execution": {
     "iopub.execute_input": "2020-10-04T23:17:56.218606Z",
     "iopub.status.busy": "2020-10-04T23:17:56.218453Z",
     "iopub.status.idle": "2020-10-04T23:17:56.223345Z",
     "shell.execute_reply": "2020-10-04T23:17:56.222847Z",
     "shell.execute_reply.started": "2020-10-04T23:17:56.218591Z"
    }
   },
   "outputs": [],
   "source": [
    "def catagorical_sum(rows):\n",
    "    #calculate the total amount of \n",
    "    #times seen of a instance. \n",
    "    counts={}\n",
    "    for row in rows:\n",
    "        t=row[-1]\n",
    "        if t not in counts:\n",
    "            counts[t]=0#delare to dictionary\n",
    "        counts[t]=counts[t]+1\n",
    "    return counts"
   ]
  },
  {
   "cell_type": "code",
   "execution_count": 9,
   "metadata": {
    "execution": {
     "iopub.execute_input": "2020-10-04T23:17:56.224657Z",
     "iopub.status.busy": "2020-10-04T23:17:56.224342Z",
     "iopub.status.idle": "2020-10-04T23:17:56.235866Z",
     "shell.execute_reply": "2020-10-04T23:17:56.235343Z",
     "shell.execute_reply.started": "2020-10-04T23:17:56.224638Z"
    }
   },
   "outputs": [
    {
     "name": "stdout",
     "output_type": "stream",
     "text": [
      "(709, 6) (178, 6) (709, 1) (178, 1)\n",
      "(1382, 6) (346, 6) (1382,) (346,)\n"
     ]
    }
   ],
   "source": [
    "# Splitting the dataset into the Training set and Test set\n",
    "X_train, X_test, y_train, y_test = train_test_split(X, y, test_size = 0.2, random_state = 0)\n",
    "print(X_train.shape, X_test.shape, y_train.shape, y_test.shape)\n",
    "\n",
    "#car data splits\n",
    "Xc_train, Xc_test, yc_train, yc_test = train_test_split(Xc, yc, test_size = 0.2, random_state = 0)\n",
    "print(Xc_train.shape, Xc_test.shape, yc_train.shape, yc_test.shape)"
   ]
  },
  {
   "cell_type": "code",
   "execution_count": 10,
   "metadata": {
    "execution": {
     "iopub.execute_input": "2020-10-04T23:17:56.236733Z",
     "iopub.status.busy": "2020-10-04T23:17:56.236473Z",
     "iopub.status.idle": "2020-10-04T23:17:56.240220Z",
     "shell.execute_reply": "2020-10-04T23:17:56.239695Z",
     "shell.execute_reply.started": "2020-10-04T23:17:56.236716Z"
    }
   },
   "outputs": [],
   "source": [
    "\n",
    "# Column labels.\n",
    "# These are used only to print the tree.\n",
    "header = [ \"Pclass\", \"Sex\", \"Age\", \"sibilings, spouses aboard\", \"Parents/children Aboard\", \"fare\"]"
   ]
  },
  {
   "cell_type": "markdown",
   "metadata": {
    "execution": {
     "iopub.execute_input": "2020-09-27T17:52:41.670265Z",
     "iopub.status.busy": "2020-09-27T17:52:41.669773Z",
     "iopub.status.idle": "2020-09-27T17:52:41.677001Z",
     "shell.execute_reply": "2020-09-27T17:52:41.676113Z",
     "shell.execute_reply.started": "2020-09-27T17:52:41.670210Z"
    }
   },
   "source": [
    "## Object creation"
   ]
  },
  {
   "cell_type": "code",
   "execution_count": 11,
   "metadata": {
    "execution": {
     "iopub.execute_input": "2020-10-04T23:17:56.241455Z",
     "iopub.status.busy": "2020-10-04T23:17:56.241030Z",
     "iopub.status.idle": "2020-10-04T23:17:56.246050Z",
     "shell.execute_reply": "2020-10-04T23:17:56.245258Z",
     "shell.execute_reply.started": "2020-10-04T23:17:56.241435Z"
    }
   },
   "outputs": [],
   "source": [
    "class QuestionCreator:\n",
    "    def __init__(self, feat, value):\n",
    "        self.feature=feat\n",
    "        self.value=value\n",
    "        \n",
    "    def do(self, example):#col->feature, val->numeric valur\n",
    "        val=example[self.feature]# if error or no sense may have to subsitute for sepal_l, sepal_w, etc.\n",
    "        if isNum(val):\n",
    "            return val >= self.value #translation- example >= sepal_l, sepal_w etc\n",
    "        else: \n",
    "            return val == self.value\n",
    "        \n",
    "    def __repr__(self):\n",
    "        # This is just a helper method to print\n",
    "        # the question in a readable format.\n",
    "        condition = \"==\"\n",
    "        if isNum(self.value):\n",
    "            condition = \">=\"\n",
    "        return \"Is %s %s %s?\" % (\n",
    "            header[self.feature], condition, str(self.value))"
   ]
  },
  {
   "cell_type": "code",
   "execution_count": 12,
   "metadata": {
    "execution": {
     "iopub.execute_input": "2020-10-04T23:17:56.247370Z",
     "iopub.status.busy": "2020-10-04T23:17:56.246980Z",
     "iopub.status.idle": "2020-10-04T23:17:56.251031Z",
     "shell.execute_reply": "2020-10-04T23:17:56.250464Z",
     "shell.execute_reply.started": "2020-10-04T23:17:56.247350Z"
    }
   },
   "outputs": [],
   "source": [
    "class decisionNode:\n",
    "    def __init__(self, question, L_childNode, R_childNode):\n",
    "        self.question=question\n",
    "        self.left_childNode=L_childNode\n",
    "        self.right_childNode=R_childNode"
   ]
  },
  {
   "cell_type": "code",
   "execution_count": 13,
   "metadata": {
    "execution": {
     "iopub.execute_input": "2020-10-04T23:17:56.252310Z",
     "iopub.status.busy": "2020-10-04T23:17:56.251870Z",
     "iopub.status.idle": "2020-10-04T23:17:56.255280Z",
     "shell.execute_reply": "2020-10-04T23:17:56.254816Z",
     "shell.execute_reply.started": "2020-10-04T23:17:56.252285Z"
    }
   },
   "outputs": [],
   "source": [
    "class leaf:#might need further work, like returning something like rows\n",
    "    def __init__(self, rows):\n",
    "        self.rows=rows"
   ]
  },
  {
   "cell_type": "markdown",
   "metadata": {
    "execution": {
     "iopub.execute_input": "2020-09-30T00:37:39.717161Z",
     "iopub.status.busy": "2020-09-30T00:37:39.716882Z",
     "iopub.status.idle": "2020-09-30T00:37:39.721323Z",
     "shell.execute_reply": "2020-09-30T00:37:39.720207Z",
     "shell.execute_reply.started": "2020-09-30T00:37:39.717132Z"
    }
   },
   "source": [
    "## demonstation purposes only"
   ]
  },
  {
   "cell_type": "code",
   "execution_count": 14,
   "metadata": {
    "execution": {
     "iopub.execute_input": "2020-10-04T23:17:56.256512Z",
     "iopub.status.busy": "2020-10-04T23:17:56.256074Z",
     "iopub.status.idle": "2020-10-04T23:17:56.263866Z",
     "shell.execute_reply": "2020-10-04T23:17:56.263250Z",
     "shell.execute_reply.started": "2020-10-04T23:17:56.256485Z"
    }
   },
   "outputs": [
    {
     "data": {
      "text/plain": [
       "array([[3, 'male', 30.0, 0, 0, 7.25],\n",
       "       [1, 'female', 38.0, 0, 0, 79.2],\n",
       "       [3, 'female', 2.0, 0, 1, 12.2875],\n",
       "       ...,\n",
       "       [1, 'male', 32.0, 0, 0, 30.5],\n",
       "       [2, 'male', 28.0, 0, 0, 13.5],\n",
       "       [3, 'male', 19.0, 0, 0, 10.1708]], dtype=object)"
      ]
     },
     "execution_count": 14,
     "metadata": {},
     "output_type": "execute_result"
    }
   ],
   "source": [
    "X_train"
   ]
  },
  {
   "cell_type": "code",
   "execution_count": 15,
   "metadata": {
    "execution": {
     "iopub.execute_input": "2020-10-04T23:17:56.265044Z",
     "iopub.status.busy": "2020-10-04T23:17:56.264740Z",
     "iopub.status.idle": "2020-10-04T23:17:56.269538Z",
     "shell.execute_reply": "2020-10-04T23:17:56.268222Z",
     "shell.execute_reply.started": "2020-10-04T23:17:56.265024Z"
    }
   },
   "outputs": [],
   "source": [
    "def partition(rows, question):\n",
    "    \n",
    "    true_rows, false_rows = [ ], [ ]\n",
    "    for i in rows:\n",
    "        if question.do(i):\n",
    "            true_rows.append(i)\n",
    "        else:\n",
    "            false_rows.append(i)\n",
    "    #print(\"true_rows\", true_rows)\n",
    "    #print(\"false Rows\", false_rows)\n",
    "    return true_rows, false_rows\n",
    "    \n",
    "#partition(X_train, QuestionCreator(0,3))"
   ]
  },
  {
   "cell_type": "code",
   "execution_count": 16,
   "metadata": {
    "execution": {
     "iopub.execute_input": "2020-10-04T23:17:56.271228Z",
     "iopub.status.busy": "2020-10-04T23:17:56.270562Z",
     "iopub.status.idle": "2020-10-04T23:17:56.275981Z",
     "shell.execute_reply": "2020-10-04T23:17:56.275074Z",
     "shell.execute_reply.started": "2020-10-04T23:17:56.271195Z"
    }
   },
   "outputs": [],
   "source": [
    "def al_gini(rows):\n",
    "    sum=1\n",
    "    j=len(rows)#len of row\n",
    "    t=catagorical_sum(rows)\n",
    "    for i in t:\n",
    "        probability=t[i]/float(j)\n",
    "        sum= sum - (probability**2)\n",
    "    return sum"
   ]
  },
  {
   "cell_type": "code",
   "execution_count": 18,
   "metadata": {
    "execution": {
     "iopub.execute_input": "2020-10-04T23:17:56.283543Z",
     "iopub.status.busy": "2020-10-04T23:17:56.283188Z",
     "iopub.status.idle": "2020-10-04T23:17:56.287132Z",
     "shell.execute_reply": "2020-10-04T23:17:56.286536Z",
     "shell.execute_reply.started": "2020-10-04T23:17:56.283524Z"
    }
   },
   "outputs": [],
   "source": [
    "def info_gain(left, right, current_uncertainty):\n",
    "    p = float(len(left)) / (len(left) + len(right))\n",
    "    return current_uncertainty - p * al_gini(left) - (1 - p) * al_gini(right)"
   ]
  },
  {
   "cell_type": "markdown",
   "metadata": {},
   "source": [
    "## Main functions"
   ]
  },
  {
   "cell_type": "code",
   "execution_count": 19,
   "metadata": {
    "execution": {
     "iopub.execute_input": "2020-10-04T23:17:56.288371Z",
     "iopub.status.busy": "2020-10-04T23:17:56.288010Z",
     "iopub.status.idle": "2020-10-04T23:17:58.683916Z",
     "shell.execute_reply": "2020-10-04T23:17:58.681874Z",
     "shell.execute_reply.started": "2020-10-04T23:17:56.288348Z"
    }
   },
   "outputs": [
    {
     "data": {
      "text/plain": [
       "(0.014611023780523147, Is Pclass >= 3?)"
      ]
     },
     "execution_count": 19,
     "metadata": {},
     "output_type": "execute_result"
    }
   ],
   "source": [
    "def find_best_split(rows):#rows aka X_train so 0-3 or each feature, 4 times\n",
    "    currentUncertainty=al_gini(rows)\n",
    "    n_features = len(rows[0])- 1  # number of columns, i.e. this line makes it 4 times\n",
    "    col_len=len(rows)-1\n",
    "    top_gain=0\n",
    "    best_question=None\n",
    "    for col in range(n_features):  # for each feature\n",
    "        values = set([row[col] for row in rows])\n",
    "        col_len=len(rows)-1\n",
    "        #print(len(values))\n",
    "        #print(\"###\",col)\n",
    "        for val in range(col_len):  # for each value\n",
    "            #print(val)\n",
    "            question = QuestionCreator(col, rows[val][col])\n",
    "            true_rows, false_rows = partition(rows,question)\n",
    "            gain= info_gain(true_rows, false_rows, currentUncertainty)\n",
    "            if gain > top_gain:\n",
    "                top_gain=gain\n",
    "                best_question=question\n",
    "\n",
    "    return top_gain, best_question\n",
    "#print(len(X_train[0]))\n",
    "#print(len(X_train))\n",
    "find_best_split(X_train)"
   ]
  },
  {
   "cell_type": "code",
   "execution_count": 20,
   "metadata": {
    "execution": {
     "iopub.execute_input": "2020-10-04T23:17:58.685356Z",
     "iopub.status.busy": "2020-10-04T23:17:58.685195Z",
     "iopub.status.idle": "2020-10-04T23:18:02.358257Z",
     "shell.execute_reply": "2020-10-04T23:18:02.357806Z",
     "shell.execute_reply.started": "2020-10-04T23:17:58.685339Z"
    }
   },
   "outputs": [
    {
     "data": {
      "text/plain": [
       "(0.013927757752287495, Is Pclass >= 3?)"
      ]
     },
     "execution_count": 20,
     "metadata": {},
     "output_type": "execute_result"
    }
   ],
   "source": [
    "find_best_split(X)"
   ]
  },
  {
   "cell_type": "code",
   "execution_count": 21,
   "metadata": {
    "execution": {
     "iopub.execute_input": "2020-10-04T23:18:02.359538Z",
     "iopub.status.busy": "2020-10-04T23:18:02.359381Z",
     "iopub.status.idle": "2020-10-04T23:18:02.362884Z",
     "shell.execute_reply": "2020-10-04T23:18:02.362137Z",
     "shell.execute_reply.started": "2020-10-04T23:18:02.359521Z"
    }
   },
   "outputs": [],
   "source": [
    "def buildtree(rows):\n",
    "    top_gain, best_question = find_best_split(rows)\n",
    "    if top_gain <= 0:\n",
    "        return leaf(rows)\n",
    "    #print(\"out of base case\")\n",
    "    true_rows, false_rows = partition(rows, best_question)\n",
    "    print(best_question,top_gain)\n",
    "    #print(\"difference\")\n",
    "    trueBranch=buildtree(true_rows)\n",
    "    #print(\"one^\")\n",
    "    falseBranch=buildtree(false_rows)\n",
    "    #print(\"two^\")\n",
    "    return decisionNode(best_question, trueBranch, falseBranch)\n",
    "    \n",
    "    "
   ]
  },
  {
   "cell_type": "code",
   "execution_count": 22,
   "metadata": {
    "execution": {
     "iopub.execute_input": "2020-10-04T23:18:02.363949Z",
     "iopub.status.busy": "2020-10-04T23:18:02.363797Z",
     "iopub.status.idle": "2020-10-04T23:18:02.471693Z",
     "shell.execute_reply": "2020-10-04T23:18:02.470576Z",
     "shell.execute_reply.started": "2020-10-04T23:18:02.363929Z"
    }
   },
   "outputs": [
    {
     "ename": "TypeError",
     "evalue": "'int' object is not subscriptable",
     "output_type": "error",
     "traceback": [
      "\u001b[0;31m----------------------------------------------------------------------\u001b[0m",
      "\u001b[0;31mTypeError\u001b[0m                            Traceback (most recent call last)",
      "\u001b[0;32m<ipython-input-22-2c49bec52575>\u001b[0m in \u001b[0;36m<module>\u001b[0;34m\u001b[0m\n\u001b[0;32m----> 1\u001b[0;31m \u001b[0mbuildtree\u001b[0m\u001b[0;34m(\u001b[0m\u001b[0mXc\u001b[0m\u001b[0;34m)\u001b[0m\u001b[0;34m\u001b[0m\u001b[0;34m\u001b[0m\u001b[0m\n\u001b[0m",
      "\u001b[0;32m<ipython-input-21-ab4d34d7df12>\u001b[0m in \u001b[0;36mbuildtree\u001b[0;34m(rows)\u001b[0m\n\u001b[1;32m      1\u001b[0m \u001b[0;32mdef\u001b[0m \u001b[0mbuildtree\u001b[0m\u001b[0;34m(\u001b[0m\u001b[0mrows\u001b[0m\u001b[0;34m)\u001b[0m\u001b[0;34m:\u001b[0m\u001b[0;34m\u001b[0m\u001b[0;34m\u001b[0m\u001b[0m\n\u001b[0;32m----> 2\u001b[0;31m     \u001b[0mtop_gain\u001b[0m\u001b[0;34m,\u001b[0m \u001b[0mbest_question\u001b[0m \u001b[0;34m=\u001b[0m \u001b[0mfind_best_split\u001b[0m\u001b[0;34m(\u001b[0m\u001b[0mrows\u001b[0m\u001b[0;34m)\u001b[0m\u001b[0;34m\u001b[0m\u001b[0;34m\u001b[0m\u001b[0m\n\u001b[0m\u001b[1;32m      3\u001b[0m     \u001b[0;32mif\u001b[0m \u001b[0mtop_gain\u001b[0m \u001b[0;34m<=\u001b[0m \u001b[0;36m0\u001b[0m\u001b[0;34m:\u001b[0m\u001b[0;34m\u001b[0m\u001b[0;34m\u001b[0m\u001b[0m\n\u001b[1;32m      4\u001b[0m         \u001b[0;32mreturn\u001b[0m \u001b[0mleaf\u001b[0m\u001b[0;34m(\u001b[0m\u001b[0mrows\u001b[0m\u001b[0;34m)\u001b[0m\u001b[0;34m\u001b[0m\u001b[0;34m\u001b[0m\u001b[0m\n\u001b[1;32m      5\u001b[0m     \u001b[0;31m#print(\"out of base case\")\u001b[0m\u001b[0;34m\u001b[0m\u001b[0;34m\u001b[0m\u001b[0;34m\u001b[0m\u001b[0m\n",
      "\u001b[0;32m<ipython-input-19-ec6429089b41>\u001b[0m in \u001b[0;36mfind_best_split\u001b[0;34m(rows)\u001b[0m\n\u001b[1;32m      1\u001b[0m \u001b[0;32mdef\u001b[0m \u001b[0mfind_best_split\u001b[0m\u001b[0;34m(\u001b[0m\u001b[0mrows\u001b[0m\u001b[0;34m)\u001b[0m\u001b[0;34m:\u001b[0m\u001b[0;31m#rows aka X_train so 0-3 or each feature, 4 times\u001b[0m\u001b[0;34m\u001b[0m\u001b[0;34m\u001b[0m\u001b[0m\n\u001b[0;32m----> 2\u001b[0;31m     \u001b[0mcurrentUncertainty\u001b[0m\u001b[0;34m=\u001b[0m\u001b[0mal_gini\u001b[0m\u001b[0;34m(\u001b[0m\u001b[0mrows\u001b[0m\u001b[0;34m)\u001b[0m\u001b[0;34m\u001b[0m\u001b[0;34m\u001b[0m\u001b[0m\n\u001b[0m\u001b[1;32m      3\u001b[0m     \u001b[0mn_features\u001b[0m \u001b[0;34m=\u001b[0m \u001b[0mlen\u001b[0m\u001b[0;34m(\u001b[0m\u001b[0mrows\u001b[0m\u001b[0;34m[\u001b[0m\u001b[0;36m0\u001b[0m\u001b[0;34m]\u001b[0m\u001b[0;34m)\u001b[0m\u001b[0;34m-\u001b[0m \u001b[0;36m1\u001b[0m  \u001b[0;31m# number of columns, i.e. this line makes it 4 times\u001b[0m\u001b[0;34m\u001b[0m\u001b[0;34m\u001b[0m\u001b[0m\n\u001b[1;32m      4\u001b[0m     \u001b[0mcol_len\u001b[0m\u001b[0;34m=\u001b[0m\u001b[0mlen\u001b[0m\u001b[0;34m(\u001b[0m\u001b[0mrows\u001b[0m\u001b[0;34m)\u001b[0m\u001b[0;34m-\u001b[0m\u001b[0;36m1\u001b[0m\u001b[0;34m\u001b[0m\u001b[0;34m\u001b[0m\u001b[0m\n\u001b[1;32m      5\u001b[0m     \u001b[0mtop_gain\u001b[0m\u001b[0;34m=\u001b[0m\u001b[0;36m0\u001b[0m\u001b[0;34m\u001b[0m\u001b[0;34m\u001b[0m\u001b[0m\n",
      "\u001b[0;32m<ipython-input-16-42c491ec502e>\u001b[0m in \u001b[0;36mal_gini\u001b[0;34m(rows)\u001b[0m\n\u001b[1;32m      2\u001b[0m     \u001b[0msum\u001b[0m\u001b[0;34m=\u001b[0m\u001b[0;36m1\u001b[0m\u001b[0;34m\u001b[0m\u001b[0;34m\u001b[0m\u001b[0m\n\u001b[1;32m      3\u001b[0m     \u001b[0mj\u001b[0m\u001b[0;34m=\u001b[0m\u001b[0mlen\u001b[0m\u001b[0;34m(\u001b[0m\u001b[0mrows\u001b[0m\u001b[0;34m)\u001b[0m\u001b[0;31m#len of row\u001b[0m\u001b[0;34m\u001b[0m\u001b[0;34m\u001b[0m\u001b[0m\n\u001b[0;32m----> 4\u001b[0;31m     \u001b[0mt\u001b[0m\u001b[0;34m=\u001b[0m\u001b[0mcatagorical_sum\u001b[0m\u001b[0;34m(\u001b[0m\u001b[0mrows\u001b[0m\u001b[0;34m)\u001b[0m\u001b[0;34m\u001b[0m\u001b[0;34m\u001b[0m\u001b[0m\n\u001b[0m\u001b[1;32m      5\u001b[0m     \u001b[0;32mfor\u001b[0m \u001b[0mi\u001b[0m \u001b[0;32min\u001b[0m \u001b[0mt\u001b[0m\u001b[0;34m:\u001b[0m\u001b[0;34m\u001b[0m\u001b[0;34m\u001b[0m\u001b[0m\n\u001b[1;32m      6\u001b[0m         \u001b[0mprobability\u001b[0m\u001b[0;34m=\u001b[0m\u001b[0mt\u001b[0m\u001b[0;34m[\u001b[0m\u001b[0mi\u001b[0m\u001b[0;34m]\u001b[0m\u001b[0;34m/\u001b[0m\u001b[0mfloat\u001b[0m\u001b[0;34m(\u001b[0m\u001b[0mj\u001b[0m\u001b[0;34m)\u001b[0m\u001b[0;34m\u001b[0m\u001b[0;34m\u001b[0m\u001b[0m\n",
      "\u001b[0;32m<ipython-input-8-78cc2148c2ef>\u001b[0m in \u001b[0;36mcatagorical_sum\u001b[0;34m(rows)\u001b[0m\n\u001b[1;32m      4\u001b[0m     \u001b[0mcounts\u001b[0m\u001b[0;34m=\u001b[0m\u001b[0;34m{\u001b[0m\u001b[0;34m}\u001b[0m\u001b[0;34m\u001b[0m\u001b[0;34m\u001b[0m\u001b[0m\n\u001b[1;32m      5\u001b[0m     \u001b[0;32mfor\u001b[0m \u001b[0mrow\u001b[0m \u001b[0;32min\u001b[0m \u001b[0mrows\u001b[0m\u001b[0;34m:\u001b[0m\u001b[0;34m\u001b[0m\u001b[0;34m\u001b[0m\u001b[0m\n\u001b[0;32m----> 6\u001b[0;31m         \u001b[0mt\u001b[0m\u001b[0;34m=\u001b[0m\u001b[0mrow\u001b[0m\u001b[0;34m[\u001b[0m\u001b[0;34m-\u001b[0m\u001b[0;36m1\u001b[0m\u001b[0;34m]\u001b[0m\u001b[0;34m\u001b[0m\u001b[0;34m\u001b[0m\u001b[0m\n\u001b[0m\u001b[1;32m      7\u001b[0m         \u001b[0;32mif\u001b[0m \u001b[0mt\u001b[0m \u001b[0;32mnot\u001b[0m \u001b[0;32min\u001b[0m \u001b[0mcounts\u001b[0m\u001b[0;34m:\u001b[0m\u001b[0;34m\u001b[0m\u001b[0;34m\u001b[0m\u001b[0m\n\u001b[1;32m      8\u001b[0m             \u001b[0mcounts\u001b[0m\u001b[0;34m[\u001b[0m\u001b[0mt\u001b[0m\u001b[0;34m]\u001b[0m\u001b[0;34m=\u001b[0m\u001b[0;36m0\u001b[0m\u001b[0;31m#delare to dictionary\u001b[0m\u001b[0;34m\u001b[0m\u001b[0;34m\u001b[0m\u001b[0m\n",
      "\u001b[0;31mTypeError\u001b[0m: 'int' object is not subscriptable"
     ]
    }
   ],
   "source": [
    "buildtree(Xc)"
   ]
  },
  {
   "cell_type": "code",
   "execution_count": null,
   "metadata": {
    "execution": {
     "iopub.status.busy": "2020-10-04T23:18:02.472353Z",
     "iopub.status.idle": "2020-10-04T23:18:02.472682Z"
    }
   },
   "outputs": [],
   "source": [
    "def main \n",
    "    buildtree(X)\n",
    "    buildtree(Xc)"
   ]
  },
  {
   "cell_type": "code",
   "execution_count": null,
   "metadata": {},
   "outputs": [],
   "source": []
  }
 ],
 "metadata": {
  "kernelspec": {
   "display_name": "Python 3",
   "language": "python",
   "name": "python3"
  },
  "language_info": {
   "codemirror_mode": {
    "name": "ipython",
    "version": 3
   },
   "file_extension": ".py",
   "mimetype": "text/x-python",
   "name": "python",
   "nbconvert_exporter": "python",
   "pygments_lexer": "ipython3",
   "version": "3.8.3"
  }
 },
 "nbformat": 4,
 "nbformat_minor": 4
}
